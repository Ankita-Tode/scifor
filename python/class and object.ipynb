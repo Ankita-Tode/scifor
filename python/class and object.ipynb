{
  "cells": [
    {
      "cell_type": "code",
      "execution_count": null,
      "metadata": {
        "colab": {
          "background_save": true,
          "base_uri": "https://localhost:8080/"
        },
        "id": "DPjiKTVO-8e9",
        "outputId": "94c1f7b6-f173-4c34-cd74-fd5d8e5c3368"
      },
      "outputs": [
        {
          "name": "stdout",
          "output_type": "stream",
          "text": [
            "What does HTML stand for?\n",
            "1. Hyper Text Markup Language\n",
            "2. Hyperlink and Text Markup Language\n",
            "3. Home Tool Markup Language\n",
            "4. Hyper Text Manipulation Language\n",
            "Correct!\n",
            "\n",
            "Which programming language is often used for web development?\n",
            "1. Python\n",
            "2. Java\n",
            "3. HTML\n",
            "4. C++\n",
            "Incorrect!\n",
            "\n",
            "What does IDE stand for?\n",
            "1. Integrated Development Environment\n",
            "2. Internet Development Environment\n",
            "3. Interface Design Environment\n",
            "4. Integrated Design Environment\n",
            "Correct!\n",
            "\n",
            "What is the result of 3 + 5?\n",
            "1. 7\n",
            "2. 8\n",
            "3. 9\n",
            "4. 10\n"
          ]
        }
      ],
      "source": [
        "class Question:\n",
        "    def __init__(self, question, options, correct_answer):\n",
        "        self.question = question\n",
        "        self.options = options\n",
        "        self.correct_answer = correct_answer\n",
        "\n",
        "    def check_answer(self, user_answer):\n",
        "        return user_answer == self.correct_answer\n",
        "\n",
        "class QuizGame:\n",
        "    def __init__(self, questions):\n",
        "        self.questions = questions\n",
        "        self.score = 0\n",
        "\n",
        "    def play(self):\n",
        "        for question in self.questions:\n",
        "            print(question.question)\n",
        "            for i, option in enumerate(question.options, start=1):\n",
        "                print(f\"{i}. {option}\")\n",
        "            user_choice = input(\"Enter the number of your answer: \")\n",
        "            try:\n",
        "                user_choice = int(user_choice)\n",
        "                if 1 <= user_choice <= len(question.options):\n",
        "                    if question.check_answer(user_choice):\n",
        "                        print(\"Correct!\\n\")\n",
        "                        self.score += 1\n",
        "                    else:\n",
        "                        print(\"Incorrect!\\n\")\n",
        "                else:\n",
        "                    print(\"Invalid choice. Please choose a valid option.\\n\")\n",
        "            except ValueError:\n",
        "                print(\"Invalid input. Please enter a number.\\n\")\n",
        "        print(f\"Quiz complete! Your score: {self.score}/{len(self.questions)}\")\n",
        "\n",
        "\n",
        "questions = [\n",
        "    Question(\"What does HTML stand for?\", [\"Hyper Text Markup Language\", \"Hyperlink and Text Markup Language\", \"Home Tool Markup Language\", \"Hyper Text Manipulation Language\"], 1),\n",
        "    Question(\"Which programming language is often used for web development?\", [\"Python\", \"Java\", \"HTML\", \"C++\"], 3),\n",
        "    Question(\"What does IDE stand for?\", [\"Integrated Development Environment\", \"Internet Development Environment\", \"Interface Design Environment\", \"Integrated Design Environment\"], 1),\n",
        "    Question(\"What is the result of 3 + 5?\", [\"7\", \"8\", \"9\", \"10\"], 2),\n",
        "    Question(\"What is a loop in programming?\", [\"A type of fruit\", \"A tool for cutting paper\", \"A repetitive sequence of instructions\", \"A type of dance\"], 3),\n",
        "    Question(\"Which symbol is used for comments in Python?\", [\"//\", \"/* ... */\", \"#\", \"--\"], 3),\n",
        "    Question(\"What is the file extension for a Python script?\", [\".pyt\", \".script\", \".pyscript\", \".py\"], 4),\n",
        "    Question(\"Which data type is used to store a sequence of characters in Python?\", [\"integer\", \"string\", \"float\", \"list\"], 2),\n",
        "    Question(\"What is the purpose of a function in programming?\", [\"To create loops\", \"To display text on the screen\", \"To store data\", \"To perform a specific task\"], 4),\n",
        "    Question(\"What is the result of 2 * 3?\", [\"5\", \"6\", \"7\", \"8\"], 2)\n",
        "]\n",
        "\n",
        "\n",
        "quiz = QuizGame(questions)\n",
        "\n",
        "\n",
        "quiz.play()"
      ]
    },
    {
      "cell_type": "code",
      "execution_count": null,
      "metadata": {
        "colab": {
          "base_uri": "https://localhost:8080/"
        },
        "id": "D9_S1SB-8Gel",
        "outputId": "b140223e-43fa-46cd-9138-1a48fcf3b32f"
      },
      "outputs": [
        {
          "name": "stdout",
          "output_type": "stream",
          "text": [
            "New Delhi is the capital of India.\n",
            "Hindi is the most widely spoken language of India.\n",
            "India is a developing country.\n",
            "Washington, D.C. is the capital of USA.\n",
            "English is the primary language of USA.\n",
            "USA is a developed country.\n"
          ]
        }
      ],
      "source": [
        "class India():\n",
        "\tdef capital(self):\n",
        "\t\tprint(\"New Delhi is the capital of India.\")\n",
        "\n",
        "\tdef language(self):\n",
        "\t\tprint(\"Hindi is the most widely spoken language of India.\")\n",
        "\n",
        "\tdef type(self):\n",
        "\t\tprint(\"India is a developing country.\")\n",
        "\n",
        "class USA():\n",
        "\tdef capital(self):\n",
        "\t\tprint(\"Washington, D.C. is the capital of USA.\")\n",
        "\n",
        "\tdef language(self):\n",
        "\t\tprint(\"English is the primary language of USA.\")\n",
        "\n",
        "\tdef type(self):\n",
        "\t\tprint(\"USA is a developed country.\")\n",
        "\n",
        "obj_ind = India()\n",
        "obj_usa = USA()\n",
        "for country in (obj_ind, obj_usa):\n",
        "\tcountry.capital()\n",
        "\tcountry.language()\n",
        "\tcountry.type()\n",
        "\n"
      ]
    },
    {
      "cell_type": "code",
      "execution_count": null,
      "metadata": {
        "colab": {
          "base_uri": "https://localhost:8080/"
        },
        "id": "RQJzI-nb-iGA",
        "outputId": "62f59b2e-4cc5-4b85-87d7-dfac75bcb16c"
      },
      "outputs": [
        {
          "name": "stdout",
          "output_type": "stream",
          "text": [
            "[<class '__main__.Class4'>, <class '__main__.Class2'>, <class '__main__.Class3'>, <class '__main__.Class1'>, <class 'object'>]\n",
            "(<class '__main__.Class4'>, <class '__main__.Class2'>, <class '__main__.Class3'>, <class '__main__.Class1'>, <class 'object'>)\n"
          ]
        }
      ],
      "source": [
        "\n",
        "\n",
        "class Class1:\n",
        "\tdef m(self):\n",
        "\t\tprint(\"In Class1\")\n",
        "\n",
        "class Class2(Class1):\n",
        "\tdef m(self):\n",
        "\t\tprint(\"In Class2\")\n",
        "\t\tsuper().m()\n",
        "\n",
        "class Class3(Class1):\n",
        "\tdef m(self):\n",
        "\t\tprint(\"In Class3\")\n",
        "\t\tsuper().m()\n",
        "\n",
        "class Class4(Class2, Class3):\n",
        "\tdef m(self):\n",
        "\t\tprint(\"In Class4\")\n",
        "\t\tsuper().m()\n",
        "\n",
        "print(Class4.mro())\n",
        "print(Class4.__mro__)\n"
      ]
    },
    {
      "cell_type": "code",
      "execution_count": null,
      "metadata": {
        "colab": {
          "base_uri": "https://localhost:8080/"
        },
        "id": "ZtRMRSDv9BPh",
        "outputId": "eadf4ca5-86be-4ca3-e308-034222ffb1f1"
      },
      "outputs": [
        {
          "name": "stdout",
          "output_type": "stream",
          "text": [
            "Calling protected member of base class:  2\n",
            "Calling modified protected member outside class:  3\n",
            "Accessing protected member of obj1:  3\n",
            "Accessing protected member of obj2:  2\n"
          ]
        }
      ],
      "source": [
        "class Base:\n",
        "    def __init__(self):\n",
        "      self._a = 2\n",
        "class Derived(Base):\n",
        "    def __init__(self):\n",
        "      Base.__init__(self)\n",
        "      print(\"Calling protected member of base class: \",self._a)\n",
        "      self._a = 3\n",
        "      print(\"Calling modified protected member outside class: \", self._a)\n",
        "obj1 = Derived()\n",
        "\n",
        "obj2 = Base()\n",
        "print(\"Accessing protected member of obj1: \", obj1._a)\n",
        "print(\"Accessing protected member of obj2: \", obj2._a)\n",
        "\n",
        "\n",
        "\n"
      ]
    }
  ],
  "metadata": {
    "colab": {
      "provenance": []
    },
    "kernelspec": {
      "display_name": "Python 3",
      "name": "python3"
    },
    "language_info": {
      "name": "python"
    }
  },
  "nbformat": 4,
  "nbformat_minor": 0
}