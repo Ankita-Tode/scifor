{
  "nbformat": 4,
  "nbformat_minor": 0,
  "metadata": {
    "colab": {
      "provenance": []
    },
    "kernelspec": {
      "name": "python3",
      "display_name": "Python 3"
    },
    "language_info": {
      "name": "python"
    }
  },
  "cells": [
    {
      "cell_type": "markdown",
      "source": [
        "###create a multiple inheritance and use inside decorators and lambda"
      ],
      "metadata": {
        "id": "Cr0BWhH42ujo"
      }
    },
    {
      "cell_type": "code",
      "source": [
        "\n",
        "class Mammal:\n",
        "    def decor1(func):\n",
        "      def inner():\n",
        "        x = func()\n",
        "        print(\"in decorator\")\n",
        "      return inner\n",
        "    @decor1\n",
        "    def mammal_info(self):\n",
        "        print(\"Mammals can give direct birth.\")\n",
        "\n",
        "class WingedAnimal:\n",
        "    def winged_animal_info(self):\n",
        "        lambda x:print(\"Winged animals can flap.\")\n",
        "\n",
        "class Bat(Mammal, WingedAnimal):\n",
        "    pass\n",
        "\n",
        "b1 = Bat()\n",
        "b1.mammal_info()\n",
        "b1.winged_animal_info()\n"
      ],
      "metadata": {
        "id": "2wGSafxo2yUL"
      },
      "execution_count": null,
      "outputs": []
    },
    {
      "cell_type": "markdown",
      "source": [
        "##ENCAPSULATION AND LIST FUNCTION"
      ],
      "metadata": {
        "id": "ho0UW_pIDIh7"
      }
    },
    {
      "cell_type": "code",
      "execution_count": null,
      "metadata": {
        "id": "vwvTwwJT2V4s"
      },
      "outputs": [],
      "source": [
        "class Employee:\n",
        "\n",
        "    def __init__(self, name, salary):\n",
        "\n",
        "        self.name = name\n",
        "\n",
        "        self.__salary = salary\n",
        "\n",
        "\n",
        "emp = Employee('Jessa', 10000)\n",
        "\n",
        "\n",
        "print('Salary:', emp.__salary)"
      ]
    }
  ]
}