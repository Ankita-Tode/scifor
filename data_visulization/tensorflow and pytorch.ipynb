{
  "nbformat": 4,
  "nbformat_minor": 0,
  "metadata": {
    "colab": {
      "provenance": []
    },
    "kernelspec": {
      "name": "python3",
      "display_name": "Python 3"
    },
    "language_info": {
      "name": "python"
    }
  },
  "cells": [
    {
      "cell_type": "code",
      "execution_count": null,
      "metadata": {
        "colab": {
          "base_uri": "https://localhost:8080/"
        },
        "id": "NfX47wGkI66t",
        "outputId": "9ab69372-cbbd-4d47-c96a-53ead13468df"
      },
      "outputs": [
        {
          "output_type": "stream",
          "name": "stdout",
          "text": [
            "TensorFlow version: 2.15.0\n"
          ]
        }
      ],
      "source": [
        "import tensorflow as tf\n",
        "print(\"TensorFlow version:\", tf.__version__)"
      ]
    },
    {
      "cell_type": "code",
      "source": [
        "mnist = tf.keras.datasets.mnist\n",
        "\n",
        "(x_train, y_train), (x_test, y_test) = mnist.load_data()\n",
        "x_train, x_test = x_train / 255.0, x_test / 255.0"
      ],
      "metadata": {
        "colab": {
          "base_uri": "https://localhost:8080/"
        },
        "id": "izzqrKODKS-7",
        "outputId": "7bed41f1-d57c-4ee0-cb8b-cd5e2bc6a44e"
      },
      "execution_count": null,
      "outputs": [
        {
          "output_type": "stream",
          "name": "stdout",
          "text": [
            "Downloading data from https://storage.googleapis.com/tensorflow/tf-keras-datasets/mnist.npz\n",
            "11490434/11490434 [==============================] - 0s 0us/step\n"
          ]
        }
      ]
    },
    {
      "cell_type": "code",
      "source": [
        "model = tf.keras.models.Sequential([\n",
        "  tf.keras.layers.Flatten(input_shape=(28, 28)),\n",
        "  tf.keras.layers.Dense(128, activation='relu'),\n",
        "  tf.keras.layers.Dropout(0.2),\n",
        "  tf.keras.layers.Dense(10)\n",
        "])"
      ],
      "metadata": {
        "id": "VASy1ioUKXrP"
      },
      "execution_count": null,
      "outputs": []
    },
    {
      "cell_type": "code",
      "source": [
        "predictions = model(x_train[:1]).numpy()\n",
        "predictions"
      ],
      "metadata": {
        "colab": {
          "base_uri": "https://localhost:8080/"
        },
        "id": "oR3JQKX-Kiax",
        "outputId": "da9acb91-8a53-48fc-b3a1-7db02e5ffb60"
      },
      "execution_count": null,
      "outputs": [
        {
          "output_type": "execute_result",
          "data": {
            "text/plain": [
              "array([[ 0.05335407, -0.92705965,  0.6985407 ,  0.3538999 ,  0.5755565 ,\n",
              "         0.06876956,  0.20022757,  0.49607116, -0.20650741, -1.1358263 ]],\n",
              "      dtype=float32)"
            ]
          },
          "metadata": {},
          "execution_count": 4
        }
      ]
    },
    {
      "cell_type": "code",
      "source": [
        "tf.nn.softmax(predictions).numpy()"
      ],
      "metadata": {
        "colab": {
          "base_uri": "https://localhost:8080/"
        },
        "id": "OIhhHPqVKlPg",
        "outputId": "c25b115f-4ec8-4c63-a2e0-e046cbf503cb"
      },
      "execution_count": null,
      "outputs": [
        {
          "output_type": "execute_result",
          "data": {
            "text/plain": [
              "array([[0.08989463, 0.0337245 , 0.17136998, 0.12141132, 0.15153864,\n",
              "        0.09129114, 0.10411663, 0.13995981, 0.069323  , 0.02737028]],\n",
              "      dtype=float32)"
            ]
          },
          "metadata": {},
          "execution_count": 5
        }
      ]
    },
    {
      "cell_type": "code",
      "source": [
        "loss_fn = tf.keras.losses.SparseCategoricalCrossentropy(from_logits=True)"
      ],
      "metadata": {
        "id": "-k2gju7lKrT3"
      },
      "execution_count": null,
      "outputs": []
    },
    {
      "cell_type": "code",
      "source": [
        "model.compile(optimizer='adam',\n",
        "              loss=loss_fn,\n",
        "              metrics=['accuracy'])"
      ],
      "metadata": {
        "id": "PJGKTauKKxMh"
      },
      "execution_count": null,
      "outputs": []
    },
    {
      "cell_type": "code",
      "source": [
        "model.fit(x_train, y_train, epochs=5)"
      ],
      "metadata": {
        "colab": {
          "base_uri": "https://localhost:8080/"
        },
        "id": "x5aXXUMRLAkU",
        "outputId": "ceb0afd8-13d3-475c-9747-963bb0a01cf4"
      },
      "execution_count": null,
      "outputs": [
        {
          "output_type": "stream",
          "name": "stdout",
          "text": [
            "Epoch 1/5\n",
            "1875/1875 [==============================] - 7s 3ms/step - loss: 0.2973 - accuracy: 0.9137\n",
            "Epoch 2/5\n",
            "1875/1875 [==============================] - 8s 4ms/step - loss: 0.1449 - accuracy: 0.9560\n",
            "Epoch 3/5\n",
            "1875/1875 [==============================] - 7s 4ms/step - loss: 0.1097 - accuracy: 0.9663\n",
            "Epoch 4/5\n",
            "1875/1875 [==============================] - 8s 4ms/step - loss: 0.0887 - accuracy: 0.9725\n",
            "Epoch 5/5\n",
            "1875/1875 [==============================] - 8s 4ms/step - loss: 0.0757 - accuracy: 0.9759\n"
          ]
        },
        {
          "output_type": "execute_result",
          "data": {
            "text/plain": [
              "<keras.src.callbacks.History at 0x7c0c25d1d960>"
            ]
          },
          "metadata": {},
          "execution_count": 8
        }
      ]
    },
    {
      "cell_type": "code",
      "source": [
        "model.evaluate(x_test,  y_test, verbose=2)"
      ],
      "metadata": {
        "colab": {
          "base_uri": "https://localhost:8080/"
        },
        "id": "MdY2Q9liLGji",
        "outputId": "014d66c8-a1f2-4da2-cd00-b298e944c9e3"
      },
      "execution_count": null,
      "outputs": [
        {
          "output_type": "stream",
          "name": "stdout",
          "text": [
            "313/313 - 1s - loss: 0.0741 - accuracy: 0.9765 - 612ms/epoch - 2ms/step\n"
          ]
        },
        {
          "output_type": "execute_result",
          "data": {
            "text/plain": [
              "[0.07413280755281448, 0.9764999747276306]"
            ]
          },
          "metadata": {},
          "execution_count": 9
        }
      ]
    },
    {
      "cell_type": "code",
      "source": [
        "probability_model = tf.keras.Sequential([\n",
        "  model,\n",
        "  tf.keras.layers.Softmax()\n",
        "])"
      ],
      "metadata": {
        "id": "PfmhVIFFLQC3"
      },
      "execution_count": null,
      "outputs": []
    },
    {
      "cell_type": "code",
      "source": [
        "probability_model(x_test[:5])"
      ],
      "metadata": {
        "colab": {
          "base_uri": "https://localhost:8080/"
        },
        "id": "berRo0nWLW2e",
        "outputId": "6fedd7f8-ba26-4221-f541-40ff4d829637"
      },
      "execution_count": null,
      "outputs": [
        {
          "output_type": "execute_result",
          "data": {
            "text/plain": [
              "<tf.Tensor: shape=(5, 10), dtype=float32, numpy=\n",
              "array([[3.29016018e-07, 8.01659272e-09, 1.37528423e-06, 2.54933930e-05,\n",
              "        2.25231014e-11, 2.42897300e-07, 5.41047459e-12, 9.99969363e-01,\n",
              "        1.31417403e-06, 1.93169785e-06],\n",
              "       [1.15346657e-08, 1.07555948e-04, 9.99869704e-01, 5.26885174e-07,\n",
              "        2.95874665e-15, 1.25470660e-05, 2.05698075e-06, 1.35401496e-13,\n",
              "        7.68678274e-06, 2.41848286e-14],\n",
              "       [2.12372925e-07, 9.96412575e-01, 5.09858481e-04, 2.49463301e-05,\n",
              "        1.58729570e-04, 2.49055847e-05, 7.98723795e-06, 1.56422961e-03,\n",
              "        1.28351478e-03, 1.30450326e-05],\n",
              "       [9.99996066e-01, 9.31951877e-11, 1.43603620e-06, 1.30603768e-08,\n",
              "        1.40747387e-08, 1.30602601e-07, 1.90355854e-06, 3.26920741e-07,\n",
              "        4.73396646e-08, 3.66034527e-08],\n",
              "       [1.12512325e-05, 1.18703758e-08, 1.51559711e-04, 4.71773269e-08,\n",
              "        9.84826922e-01, 1.24964160e-07, 2.39895030e-06, 1.49981090e-04,\n",
              "        8.04624779e-06, 1.48496376e-02]], dtype=float32)>"
            ]
          },
          "metadata": {},
          "execution_count": 11
        }
      ]
    },
    {
      "cell_type": "code",
      "source": [
        "import numpy as np\n",
        "import math\n",
        "\n",
        "x = np.linspace(-math.pi, math.pi, 2000)\n",
        "y = np.sin(x)\n",
        "\n",
        "a = np.random.randn()\n",
        "b = np.random.randn()\n",
        "c = np.random.randn()\n",
        "d = np.random.randn()\n",
        "\n",
        "learning_rate = 1e-6\n",
        "for t in range(2000):\n",
        "\n",
        "    y_pred = a + b * x + c * x ** 2 + d * x ** 3\n",
        "\n",
        "\n",
        "    loss = np.square(y_pred - y).sum()\n",
        "    if t % 100 == 99:\n",
        "        print(t, loss)\n",
        "\n",
        "\n",
        "    grad_y_pred = 2.0 * (y_pred - y)\n",
        "    grad_a = grad_y_pred.sum()\n",
        "    grad_b = (grad_y_pred * x).sum()\n",
        "    grad_c = (grad_y_pred * x ** 2).sum()\n",
        "    grad_d = (grad_y_pred * x ** 3).sum()\n",
        "\n",
        "\n",
        "    a -= learning_rate * grad_a\n",
        "    b -= learning_rate * grad_b\n",
        "    c -= learning_rate * grad_c\n",
        "    d -= learning_rate * grad_d\n",
        "\n",
        "print(f'Result: y = {a} + {b} x + {c} x^2 + {d} x^3')\n",
        "\n",
        "\n",
        "import torch\n",
        "import math\n",
        "\n",
        "\n",
        "dtype = torch.float\n",
        "device = torch.device(\"cpu\")\n",
        "\n",
        "x = torch.linspace(-math.pi, math.pi, 2000, device=device, dtype=dtype)\n",
        "y = torch.sin(x)\n",
        "\n",
        "a = torch.randn((), device=device, dtype=dtype)\n",
        "b = torch.randn((), device=device, dtype=dtype)\n",
        "c = torch.randn((), device=device, dtype=dtype)\n",
        "d = torch.randn((), device=device, dtype=dtype)\n",
        "\n",
        "learning_rate = 1e-6\n",
        "for t in range(2000):\n",
        "\n",
        "    y_pred = a + b * x + c * x ** 2 + d * x ** 3\n",
        "\n",
        "    loss = (y_pred - y).pow(2).sum().item()\n",
        "    if t % 100 == 99:\n",
        "        print(t, loss)\n",
        "\n",
        "    grad_y_pred = 2.0 * (y_pred - y)\n",
        "    grad_a = grad_y_pred.sum()\n",
        "    grad_b = (grad_y_pred * x).sum()\n",
        "    grad_c = (grad_y_pred * x ** 2).sum()\n",
        "    grad_d = (grad_y_pred * x ** 3).sum()\n",
        "\n",
        "    a -= learning_rate * grad_a\n",
        "    b -= learning_rate * grad_b\n",
        "    c -= learning_rate * grad_c\n",
        "    d -= learning_rate * grad_d\n",
        "\n",
        "\n",
        "print(f'Result: y = {a.item()} + {b.item()} x + {c.item()} x^2 + {d.item()} x^3')"
      ],
      "metadata": {
        "colab": {
          "base_uri": "https://localhost:8080/"
        },
        "id": "LvU-7tMxLgtZ",
        "outputId": "d3d75338-269d-48a3-c9f6-a9f9166977f8"
      },
      "execution_count": null,
      "outputs": [
        {
          "output_type": "stream",
          "name": "stdout",
          "text": [
            "99 1029.4050681994004\n",
            "199 721.6458805660006\n",
            "299 507.04126913720006\n",
            "399 357.2797858834025\n",
            "499 252.69195542484982\n",
            "599 179.60007289032043\n",
            "699 128.48473269305586\n",
            "799 92.71507550991704\n",
            "899 67.6685658338659\n",
            "999 50.12021533616358\n",
            "1099 37.81837622190615\n",
            "1199 29.18984754967873\n",
            "1299 23.134695733061918\n",
            "1399 18.883374928811644\n",
            "1499 15.897149476758129\n",
            "1599 13.798640320023566\n",
            "1699 12.323345665411768\n",
            "1799 11.28577726459536\n",
            "1899 10.555789471130979\n",
            "1999 10.042022051239801\n",
            "Result: y = 0.03584264479167293 + 0.8481436798239659 x + -0.006183452650747332 x^2 + -0.09210751743306841 x^3\n",
            "99 340.9046630859375\n",
            "199 233.55047607421875\n",
            "299 161.0597686767578\n",
            "399 112.06150817871094\n",
            "499 78.9090805053711\n",
            "599 56.454402923583984\n",
            "699 41.229530334472656\n",
            "799 30.89541244506836\n",
            "899 23.873180389404297\n",
            "999 19.096206665039062\n",
            "1099 15.842941284179688\n",
            "1199 13.62484359741211\n",
            "1299 12.110806465148926\n",
            "1399 11.076159477233887\n",
            "1499 10.36828327178955\n",
            "1599 9.883445739746094\n",
            "1699 9.550971031188965\n",
            "1799 9.322728157043457\n",
            "1899 9.165855407714844\n",
            "1999 9.057918548583984\n",
            "Result: y = 0.013188670389354229 + 0.8657295107841492 x + -0.002275266218930483 x^2 + -0.09460894763469696 x^3\n"
          ]
        }
      ]
    }
  ]
}